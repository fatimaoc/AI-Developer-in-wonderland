{
 "cells": [
  {
   "cell_type": "markdown",
   "metadata": {},
   "source": [
    "exercices des graphes :\n",
    "    On appelle graphe la donnée d'un ensemble de points appelés sommets et d'un ensemble de lignes appelées arêtes qui relient certains sommets entre eux."
   ]
  },
  {
   "cell_type": "markdown",
   "metadata": {},
   "source": [
    "Les bases\n",
    "\n",
    "Le nombre de sommets d'un graphe s'appelle l'ordre du graphe.\n",
    " - Deux sommets reliés entre eux par une arête sont dits adjacents.\n",
    " - Le degré d'un sommet est le nombre d'arêtes issues de ce sommet.\n",
    " - Un sommet qui n'est adjacent à aucun autre sommet du graphe est dit isolé."
   ]
  },
  {
   "cell_type": "markdown",
   "metadata": {},
   "source": [
    "Un graphe est dit complet si deux sommets quelconques distincts sont toujours adjacents. Autrement dit, tous les sommets sont reliés deux à deux par une arête. Un graphe peut être orienté ou non-orienté. Dans un graphe orienté, chaque arête ne peut-être parcourue que dans un seul sens indiqué par une flèche. Un graphe (orienté ou non-orienté) peut contenir des boucles c'est-à-dire une arête dont l'origine et l'extrémité correspondent au même sommet (on a par exemple une boucle B sur la représentation précédente)."
   ]
  },
  {
   "cell_type": "markdown",
   "metadata": {},
   "source": [
    "# Posons le problème"
   ]
  },
  {
   "cell_type": "markdown",
   "metadata": {},
   "source": [
    "Une possibilité pour représenter un graphe avec Python est d'utiliser un dictionnaire qui, à chaque sommet, associe un sous-dictionnaire composé de ses sommets adjacents associés à la pondération de l'arête incidente \n",
    "Graphe_ = { \n",
    "     'A':{'B':2, 'C':1}, \n",
    "     'B':{'A':2, 'C':2, 'D':1, 'E':3}, \n",
    "     'C':{'A':1, 'B':2, 'D':4, 'E':3, 'F':5}, \n",
    "     'D':{'B':1, 'C':4, 'E':3, 'F':6, 'G':5}, \n",
    "     'E':{'B':3, 'C':3, 'D':3, 'F':1}, \n",
    "     'F':{'C':5, 'D':6, 'E':1, 'G':2}, \n",
    "     'G':{'D':5, 'F':2} }\n",
    "\n",
    "Ainsi Graphe'A' est le poids de l'arête incidente à A et B.\n"
   ]
  },
  {
   "cell_type": "code",
   "execution_count": null,
   "metadata": {},
   "outputs": [],
   "source": []
  },
  {
   "cell_type": "markdown",
   "metadata": {},
   "source": [
    "Le parcours d'une telle structure permet de remplir ou vider deux dictionnaires. Le premier qui se remplira au fur et à mesure contiendra les sommets explorés (par exemple s_explore) et le second qui se videra au fur et à mesure contiendra les sommets à explorer (par exemple s_a_explorer).\n",
    "\n",
    "Certains problèmes consistent à chercher entre deux points donnés le parcours qui a une \"longueur\" (durée, coût, distance) minimum.\n",
    "Ces problèmes se ramènent à la recherche d'une chaîne ou d'un chemin de plus faible pondération entre deux sommets d'un graphe pondéré (les pondérations des arêtes étant toutes positives). On parlera de plus courte distance en interprétant les pondérations comme des distances entre les sommets."
   ]
  },
  {
   "cell_type": "markdown",
   "metadata": {},
   "source": [
    "## 1/ Suivant le graphe définit précédemment, écrire les fonctions permettant de parcourir tous les nœuds de ce graphe, décrire ce que fait réellement votre fonction."
   ]
  },
  {
   "cell_type": "markdown",
   "metadata": {},
   "source": [
    "## 2/Trouver 2 manières de parcourir un graphe de A à G. Quelle est la longueur de votre parcours ?"
   ]
  },
  {
   "cell_type": "markdown",
   "metadata": {},
   "source": [
    "## 3/Proposer une fonction qui permet de passer en argument \"de quel point à quel point\" on souhaite aller et une fonction qui permet d'afficher par quel point l'algorithme est allé, et quelle distance le parcours de l'algorithme représente."
   ]
  },
  {
   "cell_type": "markdown",
   "metadata": {},
   "source": [
    "## 4/Un algorithme appelé \"Dijkstra\" permet de résoudre ce type de problème dans les graphes pondérés connexes et à pondérations positives. Implémenter cet algorithme."
   ]
  },
  {
   "cell_type": "code",
   "execution_count": 5,
   "metadata": {},
   "outputs": [
    {
     "ename": "NameError",
     "evalue": "name 'noeuds' is not defined",
     "output_type": "error",
     "traceback": [
      "\u001b[0;31m---------------------------------------------------------------------------\u001b[0m",
      "\u001b[0;31mNameError\u001b[0m                                 Traceback (most recent call last)",
      "\u001b[0;32m<ipython-input-5-8134e41bf108>\u001b[0m in \u001b[0;36m<module>\u001b[0;34m\u001b[0m\n\u001b[1;32m      4\u001b[0m \u001b[0;34m\u001b[0m\u001b[0m\n\u001b[1;32m      5\u001b[0m \u001b[0;32mfrom\u001b[0m \u001b[0mmlstatpy\u001b[0m\u001b[0;34m.\u001b[0m\u001b[0mgraph\u001b[0m\u001b[0;34m.\u001b[0m\u001b[0mgraphviz_helper\u001b[0m \u001b[0;32mimport\u001b[0m \u001b[0mdraw_graph_graphviz\u001b[0m\u001b[0;34m\u001b[0m\u001b[0;34m\u001b[0m\u001b[0m\n\u001b[0;32m----> 6\u001b[0;31m \u001b[0mdraw_graph_graphviz\u001b[0m\u001b[0;34m(\u001b[0m\u001b[0mnoeuds\u001b[0m\u001b[0;34m,\u001b[0m \u001b[0marcs\u001b[0m\u001b[0;34m,\u001b[0m \u001b[0;34m\"image.png\"\u001b[0m\u001b[0;34m)\u001b[0m\u001b[0;34m\u001b[0m\u001b[0;34m\u001b[0m\u001b[0m\n\u001b[0m\u001b[1;32m      7\u001b[0m \u001b[0;34m\u001b[0m\u001b[0m\n\u001b[1;32m      8\u001b[0m \u001b[0;32mfrom\u001b[0m \u001b[0mIPython\u001b[0m\u001b[0;34m.\u001b[0m\u001b[0mdisplay\u001b[0m \u001b[0;32mimport\u001b[0m \u001b[0mImage\u001b[0m\u001b[0;34m\u001b[0m\u001b[0;34m\u001b[0m\u001b[0m\n",
      "\u001b[0;31mNameError\u001b[0m: name 'noeuds' is not defined"
     ]
    }
   ],
   "source": [
    "# import pydot\n",
    "# import os\n",
    "# import matplotlib.pyplot as plt\n",
    "\n",
    "# from mlstatpy.graph.graphviz_helper import draw_graph_graphviz\n",
    "# draw_graph_graphviz(noeuds, arcs, \"image.png\")\n",
    "\n",
    "# from IPython.display import Image\n",
    "# Image(\"image.png\", width=400)"
   ]
  },
  {
   "cell_type": "code",
   "execution_count": null,
   "metadata": {},
   "outputs": [],
   "source": []
  },
  {
   "cell_type": "code",
   "execution_count": null,
   "metadata": {},
   "outputs": [],
   "source": [
    "parcours en largeur : on énumère les noeuds par ordre croissant de profondeur des noeuds"
   ]
  }
 ],
 "metadata": {
  "kernelspec": {
   "display_name": "Python 3",
   "language": "python",
   "name": "python3"
  },
  "language_info": {
   "codemirror_mode": {
    "name": "ipython",
    "version": 3
   },
   "file_extension": ".py",
   "mimetype": "text/x-python",
   "name": "python",
   "nbconvert_exporter": "python",
   "pygments_lexer": "ipython3",
   "version": "3.9.1"
  }
 },
 "nbformat": 4,
 "nbformat_minor": 4
}
