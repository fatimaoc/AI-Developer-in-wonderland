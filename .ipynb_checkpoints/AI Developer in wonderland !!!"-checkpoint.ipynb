{
 "cells": [
  {
   "cell_type": "markdown",
   "metadata": {},
   "source": [
    "## Contexte du projet\n"
   ]
  },
  {
   "cell_type": "markdown",
   "metadata": {},
   "source": [
    "Contexte du projet\n",
    "Vous ne révez plus... vous venez de faire le plein de ressources... Aujourd'hui vous allez créer votre premier labyrinthe !!\n",
    "Un labyrinthe est un ensemble complexe de chemins tortueux, à embranchements multiples, dans lequel on peut tourner en rond et se perdre. Il existe un point d’entrée et aussi une issue qu’il convient d’atteindre, cette dernière pouvant être confondue avec le point d’entrée. On peut aussi placer en un certain endroit un objet qu’il s’agit d’atteindre. Dans tous les cas, on doit trouver un moyen d’explorer le labyrinthe en passant partout de façon systématique, du moins jusqu’à l’issue finale, en évitant de refaire plusieurs fois le même chemin ou de tourner en rond. Pour s’en sortir, on connaît le fil d’Ariane, les cailloux disposés sur son chemin par le Petit Poucet, ou la stratégie qui consiste à toujours longer les murs que l’on a à sa droite (ou à sa gauche si l’on préfère). Mais tout cela demande à être précisé.\n",
    "\n",
    "Le but de ce projet est de créer un code python qui va générer aléatoirement des grilles de labyrinthe, qui va être capable de trouver la solution de celles-ci, si elle existe (eh oui, il se peut qu'un labyrinthe soit insoluble!), et qui pourra afficher tout ça sous la forme d’une image !\n",
    "\n",
    "On a appris à parcourir un arbre, en choisissant par exemple d’aller à droite lorsque plusieurs bifurcations se présentent, et en faisant demi-tour lorsqu’on atteint une feuille de l’arbre. Pour résoudre un labyrinthe, l’approche est similaire. Pour cela considérons un objet mobile en forme de carré, caractérisé par sa position (x, y) et dirigé dans une certaine direction, celle qu’il a devant lui. A partir de cette direction, l’objet mobile peut soit garder cette direction, soit faire un quart de tour à droite, soit faire un quart de tour à gauche, soit faire demi-tour. Pour respecter les conditions de l’exploration, il va privilégier de tourner à droite, mais s’il tombe sur un mur, il choisira d’aller devant, et s’il tombe encore sur un mur, il ira à gauche. Enfin, s’il tombe sur un cul-de-sac, il fera demi-tour.\n",
    "\n",
    "« Dans le labyrinthe, tu ne te perds pas... tu te retrouves »"
   ]
  },
  {
   "cell_type": "markdown",
   "metadata": {},
   "source": [
    "## Livrables "
   ]
  },
  {
   "cell_type": "markdown",
   "metadata": {},
   "source": [
    "Créer une application permettant de générer de manière aléatoire un labyrinthe (l’utilisateur pourra décider de la taille du labyrinthe généré, par exemple 10x10 ou 50x100) et permettant également de résoudre le labyrinthe."
   ]
  },
  {
   "cell_type": "markdown",
   "metadata": {},
   "source": [
    "## Représentation du graphe avec Python"
   ]
  },
  {
   "cell_type": "code",
   "execution_count": 1,
   "metadata": {},
   "outputs": [],
   "source": [
    "import random\n",
    "import matplotlib.pyplot as plt\n",
    "import networkx as nx\n",
    "import matplotlib.pyplot as plt"
   ]
  },
  {
   "cell_type": "code",
   "execution_count": 1,
   "metadata": {},
   "outputs": [],
   "source": [
    "G = dict()\n",
    "G['a'] = ['b','c']\n",
    "G['b'] = ['a','d','e']\n",
    "G['c'] = ['a','d']\n",
    "G['d'] = ['b','c','e']\n",
    "G['e'] = ['b','d','f','g']\n",
    "G['f'] = ['e','g']\n",
    "G['g'] = ['e','f','h']\n",
    "G['h'] = ['g']"
   ]
  },
  {
   "cell_type": "code",
   "execution_count": 15,
   "metadata": {},
   "outputs": [],
   "source": [
    "#fonction qui permet de parcourir le graphe en largeur \n",
    "\n",
    "def bfs(G,s):\n",
    "    couleur = dict()\n",
    "    for x in G : couleur [x]='blanc'\n",
    "    P=dict()\n",
    "    P[s]=None\n",
    "    couleur[s]='gris'\n",
    "    Q=[s]\n",
    "    while Q :\n",
    "        u= Q[0]\n",
    "        for v in G[u] :\n",
    "            if couleur[v]=='blanc':\n",
    "                P[v]=u\n",
    "                couleur[v]='gris'\n",
    "                Q.append(v)\n",
    "        Q.pop(0)\n",
    "        couleur[u]='noir'\n",
    "    return P\n",
    "    "
   ]
  },
  {
   "cell_type": "code",
   "execution_count": 4,
   "metadata": {},
   "outputs": [],
   "source": [
    "#fonction qui permet de parcourir le graphe en L\n",
    "def dfs(G,s) :\n",
    "    couleur=dict()\n",
    "    for v in G :couleur[v]='blanc'\n",
    "    P=dict()\n",
    "    P[s]=None\n",
    "    couleur[s]='gris'\n",
    "    Q=[s]\n",
    "    while Q :\n",
    "        u=Q[-1]\n",
    "        R=[y for y in G[u] if couleur[y]=='blanc']\n",
    "        if R :\n",
    "            v=R[0]\n",
    "            couleur[v]='gris'\n",
    "            P[v]=u\n",
    "            Q.append(v)\n",
    "        else :\n",
    "            Q.pop()\n",
    "            couleur[u]='noir'\n",
    "    return P"
   ]
  },
  {
   "cell_type": "code",
   "execution_count": 11,
   "metadata": {},
   "outputs": [
    {
     "ename": "NameError",
     "evalue": "name 'P' is not defined",
     "output_type": "error",
     "traceback": [
      "\u001b[0;31m---------------------------------------------------------------------------\u001b[0m",
      "\u001b[0;31mNameError\u001b[0m                                 Traceback (most recent call last)",
      "\u001b[0;32m<ipython-input-11-c7e47e11af57>\u001b[0m in \u001b[0;36m<module>\u001b[0;34m\u001b[0m\n\u001b[0;32m----> 1\u001b[0;31m \u001b[0mP\u001b[0m\u001b[0;34m\u001b[0m\u001b[0;34m\u001b[0m\u001b[0m\n\u001b[0m",
      "\u001b[0;31mNameError\u001b[0m: name 'P' is not defined"
     ]
    }
   ],
   "source": [
    "P"
   ]
  },
  {
   "cell_type": "code",
   "execution_count": 5,
   "metadata": {},
   "outputs": [
    {
     "name": "stdout",
     "output_type": "stream",
     "text": [
      "{'g': None, 'e': 'g', 'f': 'e', 'd': 'e', 'b': 'd', 'a': 'b', 'c': 'a', 'h': 'g'}\n"
     ]
    }
   ],
   "source": [
    "import random\n",
    "\n",
    "class Maillon:\n",
    "\n",
    "\tdef __init__(self, valeur, suivant=None):\n",
    "\t\tself.valeur = valeur\n",
    "\t\tself.suivant = suivant\n",
    "\n",
    "\n",
    "class Pile:\n",
    "\n",
    "\tdef __init__(self):\n",
    "\t\tself.taille = 0 # nombre d'assiettes dans la pile\n",
    "\t\tself.sommet = None\n",
    "\n",
    "\n",
    "\tdef empiler(self, valeur):\n",
    "\t\tself.sommet = Maillon(valeur, self.sommet)\n",
    "\t\tself.taille += 1\n",
    "\n",
    "\tdef depiler(self):\n",
    "\t\tif self.taille > 0:\n",
    "\t\t\tvaleur = self.sommet.valeur\n",
    "\t\t\tself.sommet = self.sommet.suivant\n",
    "\t\t\tself.taille -= 1\n",
    "\t\t\treturn valeur\n",
    "\n",
    "\tdef estVide(self):\n",
    "\t\treturn self.taille == 0\n",
    "\n",
    "\n",
    "\tdef lireSommet(self):\n",
    "\t\treturn self.sommet.valeur\n",
    "\n",
    "\n",
    "\n",
    "\n",
    "def dfs(G,s) :\n",
    "\tP = {s: None}\n",
    "\tQ = Pile()\n",
    "\tQ.empiler(s)\n",
    "\twhile not(Q.estVide()) :\n",
    "\t\tu = Q.lireSommet()\n",
    "\t\tR=[y for y in G[u] if y not in P]\n",
    "\t\tif R :\n",
    "\t\t\tv=random.choice(R)\n",
    "\t\t\tP[v]=u\n",
    "\t\t\tQ.empiler(v)\n",
    "\t\telse :\n",
    "\t\t\tQ.depiler()\n",
    "\treturn P\n",
    "\n",
    "\n",
    "\n",
    "\n",
    "G=dict()\n",
    "G['a']=['b','c']\n",
    "G['b']=['a','d','e']\n",
    "G['c']=['a','d']\n",
    "G['d']=['b','c','e']\n",
    "G['e']=['b','d','f','g']\n",
    "G['f']=['e','g']\n",
    "G['g']=['e','f','h']\n",
    "G['h']=['g']\n",
    "\n",
    "\n",
    "print(dfs(G,'g'))"
   ]
  },
  {
   "cell_type": "markdown",
   "metadata": {},
   "source": [
    "## Application à la création d'un labyrinthe"
   ]
  },
  {
   "cell_type": "code",
   "execution_count": 6,
   "metadata": {},
   "outputs": [
    {
     "data": {
      "image/png": "[encoded data removed]",
      "text/plain": [
       "<Figure size 432x288 with 1 Axes>"
      ]
     },
     "metadata": {},
     "output_type": "display_data"
    }
   ],
   "source": [
    "import random\n",
    "import matplotlib.pyplot as plt\n",
    "\n",
    "\n",
    "class Maillon:\n",
    "\n",
    "\tdef __init__(self, valeur, suivant=None):\n",
    "\t\tself.valeur = valeur\n",
    "\t\tself.suivant = suivant\n",
    "\n",
    "\n",
    "\n",
    "class Pile:\n",
    "\n",
    "\tdef __init__(self):\n",
    "\t\tself.taille = 0 # nombre d'assiettes dans la pile\n",
    "\t\tself.sommet = None\n",
    "\n",
    "\n",
    "\tdef empiler(self, valeur):\n",
    "\t\tself.sommet = Maillon(valeur, self.sommet)\n",
    "\t\tself.taille += 1\n",
    "\n",
    "\tdef depiler(self):\n",
    "\t\tif self.taille > 0:\n",
    "\t\t\tvaleur = self.sommet.valeur\n",
    "\t\t\tself.sommet = self.sommet.suivant\n",
    "\t\t\tself.taille -= 1\n",
    "\t\t\treturn valeur\n",
    "\n",
    "\tdef estVide(self):\n",
    "\t\treturn self.taille == 0\n",
    "\n",
    "\n",
    "\tdef lireSommet(self):\n",
    "\t\treturn self.sommet.valeur\n",
    "\n",
    "\n",
    "\n",
    "# Dimensions de la grille:\n",
    "LARGEUR = 20\n",
    "HAUTEUR = 15\n",
    "\n",
    "\n",
    "\n",
    "\n",
    "\n",
    "\n",
    "\n",
    "\n",
    "def voisinage(couple):\n",
    "\t\"\"\"\n",
    "\tRenvoie la liste des cellules voisines\n",
    "\tde la cellule (ligne, colonne) = couple dans la grille.\n",
    "\t\"\"\"\n",
    "\tlisteVoisins = []\n",
    "\ti, j = couple[0], couple[1]\n",
    "\tfor d in (-1, 1):\n",
    "\t\tif -1 < i+d < HAUTEUR: listeVoisins.append( (i+d, j) )\n",
    "\t\tif   -1 < j+d < LARGEUR: listeVoisins.append( (i, j+d) )\n",
    "\treturn listeVoisins\n",
    "\n",
    "\n",
    "\n",
    "\n",
    "def dfs(s) :\n",
    "\tP = {s: None}\n",
    "\tQ = Pile()\n",
    "\tQ.empiler(s)\n",
    "\twhile not(Q.estVide()) :\n",
    "\t\tu = Q.lireSommet()\n",
    "\t\tR=[y for y in voisinage(u) if y not in P]\n",
    "\t\tif R :\n",
    "\t\t\tv=random.choice(R)\n",
    "\t\t\tP[v]=u\n",
    "\t\t\tQ.empiler(v)\n",
    "\t\telse :\n",
    "\t\t\tQ.depiler()\n",
    "\treturn P\n",
    "\n",
    "\n",
    "\n",
    "def dedale():\n",
    "\t\"\"\"\n",
    "\tFonction dessinant le résultat\n",
    "\t\"\"\"\n",
    "\tlabyrinthe = [ [0 for j in range(2*LARGEUR+1)] for i in range(2*HAUTEUR+1)]\n",
    "\tparcours = dfs((0,0))\n",
    "\n",
    "\tfor i,j in parcours:\n",
    "\t\tlabyrinthe[2*i+1][2*j+1] = 1\n",
    "\t\tif (i,j) !=  (0,0):\n",
    "\t\t\tk,l = parcours[(i,j)]\n",
    "\t\t\tlabyrinthe[2*k+1][2*l+1] = 1\n",
    "\t\t\tlabyrinthe[i+k+1][j+l+1] = 1\n",
    "\n",
    "\tlabyrinthe[1][0] = 1\n",
    "\tlabyrinthe[2*HAUTEUR-1][2*LARGEUR] = 1\n",
    "\n",
    "\t# le graphique:\n",
    "\tplt.imshow(labyrinthe)\n",
    "\t# on cache les graduations:\n",
    "\tplt.xticks([])\n",
    "\tplt.yticks([])\n",
    "\t# on visualise le résultat:\n",
    "\tplt.show()\n",
    "\n",
    "\n",
    "\n",
    "dedale()"
   ]
  },
  {
   "cell_type": "code",
   "execution_count": null,
   "metadata": {},
   "outputs": [],
   "source": []
  }
 ],
 "metadata": {
  "kernelspec": {
   "display_name": "Python 3",
   "language": "python",
   "name": "python3"
  },
  "language_info": {
   "codemirror_mode": {
    "name": "ipython",
    "version": 3
   },
   "file_extension": ".py",
   "mimetype": "text/x-python",
   "name": "python",
   "nbconvert_exporter": "python",
   "pygments_lexer": "ipython3",
   "version": "3.9.1"
  }
 },
 "nbformat": 4,
 "nbformat_minor": 4
}
